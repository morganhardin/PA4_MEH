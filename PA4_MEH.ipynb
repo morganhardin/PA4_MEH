{
 "cells": [
  {
   "cell_type": "markdown",
   "id": "c3f2f040-db7d-429f-80cf-d50e1ef25a5b",
   "metadata": {},
   "source": [
    "## Programming Assignment 4\n",
    "---\n",
    "**Author:** Morgan Hardin  \n",
    "**Version:** 1.0  \n",
    "**Semester:** Spring 2024 \n",
    "\n",
    "This *notebook* contains my solution(s) to **Programming Assignment 4**\n",
    "\n",
    "- Problem 1: Swapping List Elements\n",
    "- Problem 2: Encoding Data\n",
    "- Problem 3: Rotating Tuples\n",
    "- Problem 4: Creating a List of Tuples\n",
    "- Problem 5: Finding Perfect Numbers"
   ]
  },
  {
   "cell_type": "markdown",
   "id": "5643ec78-fe4d-4fd5-a63c-18d78cfba6b8",
   "metadata": {},
   "source": [
    "### Importing Libraries"
   ]
  },
  {
   "cell_type": "code",
   "execution_count": 1,
   "id": "6bc28c53-fcdb-45ec-bb8e-be1377ceabf0",
   "metadata": {},
   "outputs": [],
   "source": [
    "import random"
   ]
  },
  {
   "cell_type": "markdown",
   "id": "e9702408-0a8d-4b14-b4ed-11c54c8ce712",
   "metadata": {},
   "source": [
    "### Problem 1: Swapping List Elements"
   ]
  },
  {
   "cell_type": "code",
   "execution_count": 2,
   "id": "2411a51b-7c89-4b55-8d16-f69374a72908",
   "metadata": {},
   "outputs": [],
   "source": [
    "def swap_first_last(numbers):\n",
    "    copy = numbers.copy()\n",
    "    first = copy[0]\n",
    "    last = copy[-1]\n",
    "    copy[0] = last\n",
    "    copy[-1] = first\n",
    "    return copy"
   ]
  },
  {
   "cell_type": "code",
   "execution_count": 3,
   "id": "f8a34e32-23ac-490b-94b7-ec3255866624",
   "metadata": {},
   "outputs": [
    {
     "name": "stdout",
     "output_type": "stream",
     "text": [
      "Original List:\n",
      "[79, 19, 2, 30, 20, 64, 92, 72, 44, 44]\n",
      "Swapped List:\n",
      "[44, 19, 2, 30, 20, 64, 92, 72, 44, 79]\n"
     ]
    }
   ],
   "source": [
    "numbers = []\n",
    "for i in range(10):\n",
    "    numbers.append(random.randint(1,101))\n",
    "print(f'Original List:\\n{numbers}')\n",
    "print(f'Swapped List:\\n{swap_first_last(numbers)}')"
   ]
  },
  {
   "cell_type": "markdown",
   "id": "3840a1eb-3a84-463f-b2ad-8c127c0f6d94",
   "metadata": {},
   "source": [
    "### Problem 2: Encoding Data"
   ]
  },
  {
   "cell_type": "code",
   "execution_count": 4,
   "id": "b95b694d-55fd-4b6c-b609-e59decf045ee",
   "metadata": {},
   "outputs": [],
   "source": [
    "def encode(numbers):\n",
    "    copy = numbers.copy()\n",
    "    for i, num in enumerate(copy):\n",
    "        if(num%2==0):\n",
    "            copy[i] = 1\n",
    "        else:\n",
    "            copy[i] = -1\n",
    "    return copy"
   ]
  },
  {
   "cell_type": "code",
   "execution_count": 5,
   "id": "9221b2fc-6540-4e61-b67e-53a2d98c6443",
   "metadata": {},
   "outputs": [
    {
     "name": "stdout",
     "output_type": "stream",
     "text": [
      "Original List:\n",
      "[39, 88, 26, 63, 72, 20, 70, 81, 79, 95]\n",
      "Encoded List:\n",
      "[-1, 1, 1, -1, 1, 1, 1, -1, -1, -1]\n"
     ]
    }
   ],
   "source": [
    "numbers = []\n",
    "for i in range(10):\n",
    "    numbers.append(random.randint(1,101))\n",
    "print(f'Original List:\\n{numbers}')\n",
    "print(f'Encoded List:\\n{encode(numbers)}')"
   ]
  },
  {
   "cell_type": "markdown",
   "id": "ee8ab323-5d0b-4753-abae-512172412947",
   "metadata": {},
   "source": [
    "### Problem 3: Rotating Tuples"
   ]
  },
  {
   "cell_type": "code",
   "execution_count": 6,
   "id": "ce8926e3-d7bc-4825-8cd3-6b3a6beee6e2",
   "metadata": {},
   "outputs": [],
   "source": [
    "def rotate(tuple):\n",
    "    (a, b, c) = tuple\n",
    "    first = a\n",
    "    middle = b\n",
    "    last = c\n",
    "    tuple = (c, a, b)\n",
    "    return tuple"
   ]
  },
  {
   "cell_type": "code",
   "execution_count": 7,
   "id": "796e1ebb-6e48-4f77-a653-ef1305abdb5b",
   "metadata": {},
   "outputs": [
    {
     "name": "stdout",
     "output_type": "stream",
     "text": [
      "Original Tuple: ('John', 'Kennedy', 41)\n",
      "Rotated Tuple: (41, 'John', 'Kennedy')\n"
     ]
    }
   ],
   "source": [
    "tuple = ('John', 'Kennedy', 41)\n",
    "print(f'Original Tuple: {tuple}')\n",
    "print(f'Rotated Tuple: {rotate(tuple)}')"
   ]
  },
  {
   "cell_type": "markdown",
   "id": "61b2ed80-7014-4d55-97cb-3854c8caf5c8",
   "metadata": {},
   "source": [
    "### Problem 4: Creating a List of Tuples"
   ]
  },
  {
   "cell_type": "code",
   "execution_count": 8,
   "id": "efe6d3c6-d4e0-4757-bbba-fc3da3459e6f",
   "metadata": {},
   "outputs": [],
   "source": [
    "def merge(first, last, numbers):\n",
    "    merged = list(zip(first, last, numbers))\n",
    "    return merged"
   ]
  },
  {
   "cell_type": "code",
   "execution_count": 9,
   "id": "25bb42d5-b3cc-4a79-bd72-b979001afba2",
   "metadata": {},
   "outputs": [
    {
     "name": "stdout",
     "output_type": "stream",
     "text": [
      "[('William', 'McKinley', 25), ('Theodore', 'Roosevelt', 26), ('William', 'Taft', 27), ('Woodrow', 'Wilson', 28), ('Warren', 'Harding', 29), ('Calvin', 'Coolidge', 30), ('Herbert', 'Hoover', 31), ('Franklin', 'Roosevelt', 32), ('Harry', 'Truman', 33), ('Dwight', 'Eisenhower', 34), ('John', 'Kennedy', 35), ('Lyndon', 'Johnson', 36), ('Richard', 'Nixon', 37), ('Gerald', 'Ford', 38), ('Jimmy', 'Carter', 39), ('Ronald', 'Reagan', 40), ('George', 'Bush', 41), ('William', 'Clinton', 42)]\n"
     ]
    }
   ],
   "source": [
    "first = ['William', 'Theodore', 'William', 'Woodrow', 'Warren', 'Calvin', 'Herbert', 'Franklin', \n",
    "         'Harry', 'Dwight', 'John', 'Lyndon', 'Richard', 'Gerald', 'Jimmy', 'Ronald', 'George', 'William']\n",
    "last = ['McKinley', 'Roosevelt', 'Taft', 'Wilson', 'Harding', 'Coolidge', 'Hoover', 'Roosevelt', \n",
    "        'Truman', 'Eisenhower', 'Kennedy', 'Johnson', 'Nixon', 'Ford', 'Carter', 'Reagan', 'Bush', 'Clinton']\n",
    "numbers = []\n",
    "for i in range(25, 43):\n",
    "    numbers.append(i)\n",
    "print(merge(first, last, numbers))"
   ]
  },
  {
   "cell_type": "markdown",
   "id": "7c077daf-c99a-4a47-b2eb-f13e58c023bc",
   "metadata": {},
   "source": [
    "### Problem 5: Finding Perfect Numbers"
   ]
  },
  {
   "cell_type": "code",
   "execution_count": 10,
   "id": "1673e4a7-751f-4e04-9bfb-80065f9e564f",
   "metadata": {},
   "outputs": [],
   "source": [
    "def perfect_number(n):\n",
    "    sum = 0\n",
    "    for i in range(1,  n):\n",
    "        if(n%i==0):\n",
    "            sum = sum + i\n",
    "    if(sum == n):\n",
    "        return True\n",
    "    else:\n",
    "        return False"
   ]
  },
  {
   "cell_type": "code",
   "execution_count": 11,
   "id": "993092a2-220b-4dca-a0f1-86b759d5d072",
   "metadata": {},
   "outputs": [
    {
     "name": "stdout",
     "output_type": "stream",
     "text": [
      "1 -- False\n",
      "2 -- False\n",
      "3 -- False\n",
      "4 -- False\n",
      "5 -- False\n",
      "6 -- True\n",
      "7 -- False\n",
      "8 -- False\n",
      "9 -- False\n",
      "10 -- False\n",
      "11 -- False\n",
      "12 -- False\n",
      "13 -- False\n",
      "14 -- False\n",
      "15 -- False\n",
      "16 -- False\n",
      "17 -- False\n",
      "18 -- False\n",
      "19 -- False\n",
      "20 -- False\n",
      "21 -- False\n",
      "22 -- False\n",
      "23 -- False\n",
      "24 -- False\n",
      "25 -- False\n",
      "26 -- False\n",
      "27 -- False\n",
      "28 -- True\n",
      "29 -- False\n",
      "30 -- False\n",
      "31 -- False\n",
      "32 -- False\n",
      "33 -- False\n",
      "34 -- False\n",
      "35 -- False\n",
      "36 -- False\n",
      "37 -- False\n",
      "38 -- False\n",
      "39 -- False\n",
      "40 -- False\n",
      "41 -- False\n",
      "42 -- False\n",
      "43 -- False\n",
      "44 -- False\n",
      "45 -- False\n",
      "46 -- False\n",
      "47 -- False\n",
      "48 -- False\n",
      "49 -- False\n",
      "50 -- False\n",
      "51 -- False\n",
      "52 -- False\n",
      "53 -- False\n",
      "54 -- False\n",
      "55 -- False\n",
      "56 -- False\n",
      "57 -- False\n",
      "58 -- False\n",
      "59 -- False\n",
      "60 -- False\n",
      "61 -- False\n",
      "62 -- False\n",
      "63 -- False\n",
      "64 -- False\n",
      "65 -- False\n",
      "66 -- False\n",
      "67 -- False\n",
      "68 -- False\n",
      "69 -- False\n",
      "70 -- False\n",
      "71 -- False\n",
      "72 -- False\n",
      "73 -- False\n",
      "74 -- False\n",
      "75 -- False\n",
      "76 -- False\n",
      "77 -- False\n",
      "78 -- False\n",
      "79 -- False\n",
      "80 -- False\n",
      "81 -- False\n",
      "82 -- False\n",
      "83 -- False\n",
      "84 -- False\n",
      "85 -- False\n",
      "86 -- False\n",
      "87 -- False\n",
      "88 -- False\n",
      "89 -- False\n",
      "90 -- False\n",
      "91 -- False\n",
      "92 -- False\n",
      "93 -- False\n",
      "94 -- False\n",
      "95 -- False\n",
      "96 -- False\n",
      "97 -- False\n",
      "98 -- False\n",
      "99 -- False\n",
      "100 -- False\n"
     ]
    }
   ],
   "source": [
    "numbers = []\n",
    "for i in range(1, 101):\n",
    "    numbers.append(i)\n",
    "    print(f'{i} -- {perfect_number(i)}')"
   ]
  },
  {
   "cell_type": "code",
   "execution_count": 12,
   "id": "8333ead1-adf1-460a-888c-1d1b2c830bdc",
   "metadata": {},
   "outputs": [
    {
     "name": "stdout",
     "output_type": "stream",
     "text": [
      "List of Perfect Numbers from 1 to 100: \n"
     ]
    },
    {
     "data": {
      "text/plain": [
       "[6, 28]"
      ]
     },
     "execution_count": 12,
     "metadata": {},
     "output_type": "execute_result"
    }
   ],
   "source": [
    "print('List of Perfect Numbers from 1 to 100: ')\n",
    "list(filter(perfect_number, numbers))"
   ]
  }
 ],
 "metadata": {
  "kernelspec": {
   "display_name": "Python 3 (ipykernel)",
   "language": "python",
   "name": "python3"
  },
  "language_info": {
   "codemirror_mode": {
    "name": "ipython",
    "version": 3
   },
   "file_extension": ".py",
   "mimetype": "text/x-python",
   "name": "python",
   "nbconvert_exporter": "python",
   "pygments_lexer": "ipython3",
   "version": "3.9.12"
  }
 },
 "nbformat": 4,
 "nbformat_minor": 5
}
